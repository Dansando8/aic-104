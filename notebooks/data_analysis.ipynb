{
 "cells": [
  {
   "cell_type": "code",
   "execution_count": 41,
   "metadata": {},
   "outputs": [
    {
     "name": "stdout",
     "output_type": "stream",
     "text": [
      "Requirement already satisfied: pandas in /usr/local/lib/python3.11/site-packages (2.2.3)\n",
      "Requirement already satisfied: numpy>=1.23.2 in /usr/local/lib/python3.11/site-packages (from pandas) (2.2.4)\n",
      "Requirement already satisfied: python-dateutil>=2.8.2 in /usr/local/lib/python3.11/site-packages (from pandas) (2.9.0.post0)\n",
      "Requirement already satisfied: pytz>=2020.1 in /usr/local/lib/python3.11/site-packages (from pandas) (2025.2)\n",
      "Requirement already satisfied: tzdata>=2022.7 in /usr/local/lib/python3.11/site-packages (from pandas) (2025.2)\n",
      "Requirement already satisfied: six>=1.5 in /usr/local/lib/python3.11/site-packages (from python-dateutil>=2.8.2->pandas) (1.17.0)\n",
      "Index(['Elevating Devices Number', 'TSSA Standard Order Number',\n",
      "       'Regulation Reference', 'Clause Number', 'Clause Text', 'Directive',\n",
      "       'Inspections Additional Information', 'Risk Score', 'Inspection Type',\n",
      "       'Date of Issue', 'Status of Inspection Order', 'Inspection Number',\n",
      "       'Days to Comply', 'Compliance Date', 'Customer Ordered to Comply'],\n",
      "      dtype='object')\n"
     ]
    }
   ],
   "source": [
    "!pip3 install pandas\n",
    "import pandas as pd\n",
    "import os\n",
    "\n",
    "raw_data_dir = os.path.join('..', 'data', 'raw')\n",
    "inspection = os.path.join(raw_data_dir, 'inspection.csv')\n",
    "inspection_order = os.path.join(raw_data_dir, 'order.csv')\n",
    "\n",
    "inspection_df = pd.read_csv(inspection)\n",
    "inspection_df = inspection_df.rename(columns={\n",
    "    'originatingservicerequestnumber': 'Originating Service Request Number',\n",
    "    'InspectionCustomer': 'Inspection Customer',\n",
    "    'ElevatingDevicesNumber': 'Elevating Devices Number',\n",
    "    'InspectionNumber': 'Inspection Number',\n",
    "    'InspectionLocation': 'Inspection Location',\n",
    "    'InspectionType': 'Inspection Type',\n",
    "    'Earliest_INSPECTION_Date': 'Earliest Inspection Date',\n",
    "    'Latest_INSPECTION_Date': 'Latest Inspection Date',\n",
    "    'InspectionOutcome': 'Inspection Outcome'\n",
    "})\n",
    "\n",
    "inspection_order_df = pd.read_csv(inspection_order)\n",
    "inspection_order_df = inspection_order_df.rename(columns={\n",
    "    'ElevatingDevicesNumber': 'Elevating Devices Number',\n",
    "    'TSSAStandardOrderNumber': 'TSSA Standard Order Number',\n",
    "    'RegulationReference': 'Regulation Reference',\n",
    "    'ClauseNumber': 'Clause Number',\n",
    "    'ClauseText': 'Clause Text',\n",
    "    'DIRECTIVE': 'Directive',\n",
    "    'Inspectionsadditionalinformation': 'Inspections Additional Information',\n",
    "    'RISKSCORE': 'Risk Score',\n",
    "    'Inspection_type': 'Inspection Type',\n",
    "    'DateofIssue': 'Date of Issue',\n",
    "    'StatusofInspectionOrder': 'Status of Inspection Order',\n",
    "    'inspectionnumber': 'Inspection Number',\n",
    "    'DaystoComply': 'Days to Comply',\n",
    "    'ComplianceDate': 'Compliance Date',\n",
    "    'customerorderedtocomply': 'Customer Ordered to Comply'\n",
    "})\n",
    "\n",
    "print(inspection_order_df.columns)\n"
   ]
  },
  {
   "cell_type": "markdown",
   "metadata": {},
   "source": []
  },
  {
   "cell_type": "markdown",
   "metadata": {},
   "source": [
    "### a) Inspection Dataset and Inspection Order Dataset Matching: "
   ]
  },
  {
   "cell_type": "code",
   "execution_count": 42,
   "metadata": {},
   "outputs": [
    {
     "name": "stdout",
     "output_type": "stream",
     "text": [
      "Total missing inspections: 95570\n"
     ]
    }
   ],
   "source": [
    "missing_inspections = inspection_df[~inspection_df['Inspection Number'].isin(inspection_order_df['Inspection Number'])]\n",
    "\n",
    "print(f\"Total missing inspections: {len(missing_inspections)}\")\n",
    "\n",
    "cleaned_inspections = inspection_df[inspection_df['Inspection Number'].isin(inspection_order_df['Inspection Number'])]\n",
    "cleaned_inspections = cleaned_inspections.reset_index(drop=True)\n",
    "\n",
    "cleaned_orders = inspection_order_df[inspection_order_df['Inspection Number'].isin(cleaned_inspections['Inspection Number'])]\n",
    "cleaned_orders = cleaned_orders.reset_index(drop=True)"
   ]
  },
  {
   "cell_type": "markdown",
   "metadata": {},
   "source": [
    "### b) Sort Datasets by Time"
   ]
  },
  {
   "cell_type": "code",
   "execution_count": 43,
   "metadata": {},
   "outputs": [],
   "source": [
    "sorted_inspections = cleaned_inspections.sort_values(by=['Earliest Inspection Date'])\n",
    "sorted_inspections = cleaned_inspections.reset_index(drop=True)\n",
    "\n",
    "sorted_inspections_order = cleaned_orders.sort_values(by=['Date of Issue'])\n",
    "sorted_inspections_order = cleaned_orders.reset_index(drop=True)\n",
    "\n",
    "# print(sorted_inspections.tail(20))"
   ]
  },
  {
   "cell_type": "markdown",
   "metadata": {},
   "source": [
    "### c) Inspection Orders Dataset:"
   ]
  },
  {
   "cell_type": "code",
   "execution_count": 49,
   "metadata": {},
   "outputs": [
    {
     "name": "stdout",
     "output_type": "stream",
     "text": [
      "0     No Directive Top of Car and Hoistway -other**m...\n",
      "1     No Directive Machine room other:**the 5 year t...\n",
      "2     No Directive Top of Car and Hoistway -other**m...\n",
      "3     No Directive Top of Car and Hoistway -other**i...\n",
      "4     No Directive Machine room other:**post the cur...\n",
      "5     No Directive General- other**the alteration co...\n",
      "6     No Directive Top of Car and Hoistway -other**s...\n",
      "7     No Directive Machine room other:**install a co...\n",
      "8     No Directive Pit other:**install a maximum run...\n",
      "9     No Directive Top of Car and Hoistway -other**i...\n",
      "10    The automatic emergency recall operation shall...\n",
      "11    Emergency power operation shall be tested by s...\n",
      "12    The two way communication means in the car sha...\n",
      "13    Provide means of two-way voice communication i...\n",
      "14    Provide a means accessible to authorized perso...\n",
      "15    The two way communication inside the car shall...\n",
      "16    Inspector's order: Provide a firmly secured pl...\n",
      "17    The elevating device shall conform with the de...\n",
      "18    Provide guarding in the machine room / machine...\n",
      "19    Install missing top/bottom Hoistway Door Safet...\n",
      "Name: Combined Inspection Info, dtype: object\n"
     ]
    }
   ],
   "source": [
    "sorted_inspections_order['Directive'] = sorted_inspections_order['Directive'].astype(str).where(sorted_inspections_order['Directive'].notnull(), 'No Directive.')\n",
    "sorted_inspections_order['Inspections Additional Information'] = sorted_inspections_order['Inspections Additional Information'].astype(str).where(sorted_inspections_order['Inspections Additional Information'].notnull(), 'No Additional Information.')\n",
    "\n",
    "sorted_inspections_order['Combined Inspection Info'] = (sorted_inspections_order['Directive'] + ' ' + sorted_inspections_order['Inspections Additional Information'])\n",
    "print(sorted_inspections_order['Combined Inspection Info'].head(20))"
   ]
  },
  {
   "cell_type": "markdown",
   "metadata": {},
   "source": [
    "### d) Handling Missing \"RISK SCORE\" Values: \n",
    "\n",
    "The values are huge floats, so values have to be normalized to get a better idea and improve the model performance when used. Normalization will help to do meaningful conparisons and avoid bias. In this case the column is using very different scales and also NaN values. They will be converted to "
   ]
  },
  {
   "cell_type": "code",
   "execution_count": null,
   "metadata": {},
   "outputs": [],
   "source": []
  },
  {
   "cell_type": "code",
   "execution_count": 59,
   "metadata": {},
   "outputs": [
    {
     "name": "stdout",
     "output_type": "stream",
     "text": [
      "[1.100e-03 7.000e-04 0.000e+00 1.000e-04 8.000e-04 1.700e-03 1.000e-03\n",
      " 2.000e-04 3.930e-02 1.650e-02 1.400e-03 1.200e-03 9.000e-04 1.393e-01\n",
      " 1.500e-03 1.300e-03 1.800e-03 6.000e-04 1.600e-03 3.000e-04 1.000e+00\n",
      " 9.900e-02 3.900e-03 1.020e-02 7.800e-03 5.000e-04 8.115e-01 4.000e-04\n",
      " 3.000e-03 2.400e-03 1.150e-02 4.100e-03 2.328e-01 6.700e-03 5.100e-03\n",
      " 1.343e-01 2.352e-01 1.700e-02 4.900e-03 5.900e-03 1.640e-02 2.450e-02\n",
      " 3.690e-02 2.300e-03]\n"
     ]
    }
   ],
   "source": [
    "from sklearn.preprocessing import MinMaxScaler\n",
    "import numpy as np\n",
    "\n",
    "\n",
    "scaler = MinMaxScaler()\n",
    "\n",
    "sorted_inspections_order['Risk Score'] = pd.to_numeric(sorted_inspections_order['Risk Score'], errors='coerce')\n",
    "sorted_inspections_order['Risk Score'] = sorted_inspections_order['Risk Score'].where(sorted_inspections_order['Risk Score'].notnull(), 0)\n",
    "\n",
    "sorted_inspections_order['Risk Score'] = scaler.fit_transform(sorted_inspections_order[['Risk Score']])\n",
    "\n",
    "test = sorted_inspections_order['Risk Score'].unique()\n",
    "print(test)"
   ]
  }
 ],
 "metadata": {
  "kernelspec": {
   "display_name": "Python 3",
   "language": "python",
   "name": "python3"
  },
  "language_info": {
   "codemirror_mode": {
    "name": "ipython",
    "version": 3
   },
   "file_extension": ".py",
   "mimetype": "text/x-python",
   "name": "python",
   "nbconvert_exporter": "python",
   "pygments_lexer": "ipython3",
   "version": "3.11.7"
  }
 },
 "nbformat": 4,
 "nbformat_minor": 2
}
