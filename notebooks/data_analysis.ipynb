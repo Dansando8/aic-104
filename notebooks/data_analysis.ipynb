{
 "cells": [
  {
   "cell_type": "markdown",
   "metadata": {},
   "source": [
    "## 1) Preliminary analysis/preparation of aggregation"
   ]
  },
  {
   "cell_type": "code",
   "execution_count": 161,
   "metadata": {},
   "outputs": [
    {
     "name": "stdout",
     "output_type": "stream",
     "text": [
      "Requirement already satisfied: pandas in /usr/local/lib/python3.11/site-packages (2.2.3)\n",
      "Requirement already satisfied: numpy>=1.23.2 in /usr/local/lib/python3.11/site-packages (from pandas) (2.2.4)\n",
      "Requirement already satisfied: python-dateutil>=2.8.2 in /usr/local/lib/python3.11/site-packages (from pandas) (2.9.0.post0)\n",
      "Requirement already satisfied: pytz>=2020.1 in /usr/local/lib/python3.11/site-packages (from pandas) (2025.2)\n",
      "Requirement already satisfied: tzdata>=2022.7 in /usr/local/lib/python3.11/site-packages (from pandas) (2025.2)\n",
      "Requirement already satisfied: six>=1.5 in /usr/local/lib/python3.11/site-packages (from python-dateutil>=2.8.2->pandas) (1.17.0)\n",
      "Index(['Elevating_Devices_Number', 'TSSA_Standard_Order_Number',\n",
      "       'Regulation_Reference', 'Clause_Number', 'Clause_Text', 'Directive',\n",
      "       'Inspections_Additional_Information', 'Risk_Score', 'Inspection_Type',\n",
      "       'Date_of_Issue', 'Status_of_Inspection_Order', 'Inspection_Number',\n",
      "       'Days_to_Comply', 'Compliance_Date', 'Customer_Ordered_to_Comply'],\n",
      "      dtype='object')\n"
     ]
    }
   ],
   "source": [
    "!pip3 install pandas\n",
    "import pandas as pd\n",
    "import os\n",
    "\n",
    "raw_data_dir = os.path.join('..', 'data', 'raw')\n",
    "inspection = os.path.join(raw_data_dir, 'inspection.csv')\n",
    "inspection_order = os.path.join(raw_data_dir, 'order.csv')\n",
    "\n",
    "inspection_df = pd.read_csv(inspection)\n",
    "inspection_df = inspection_df.rename(columns={\n",
    "    'originatingservicerequestnumber': 'Originating_Service_Request_Number',\n",
    "    'InspectionCustomer': 'Inspection_Customer',\n",
    "    'ElevatingDevicesNumber': 'Elevating_Devices_Number',\n",
    "    'InspectionNumber': 'Inspection_Number',\n",
    "    'InspectionLocation': 'Inspection_Location',\n",
    "    'InspectionType': 'Inspection_Type',\n",
    "    'Earliest_INSPECTION_Date': 'Earliest_Inspection_Date',\n",
    "    'Latest_INSPECTION_Date': 'Latest_Inspection_Date',\n",
    "    'InspectionOutcome': 'Inspection_Outcome'\n",
    "})\n",
    "\n",
    "inspection_order_df = pd.read_csv(inspection_order)\n",
    "inspection_order_df = inspection_order_df.rename(columns={\n",
    "    'ElevatingDevicesNumber': 'Elevating_Devices_Number',\n",
    "    'TSSAStandardOrderNumber': 'TSSA_Standard_Order_Number',\n",
    "    'RegulationReference': 'Regulation_Reference',\n",
    "    'ClauseNumber': 'Clause_Number',\n",
    "    'ClauseText': 'Clause_Text',\n",
    "    'DIRECTIVE': 'Directive',\n",
    "    'Inspectionsadditionalinformation': 'Inspections_Additional_Information',\n",
    "    'RISKSCORE': 'Risk_Score',\n",
    "    'Inspection_type': 'Inspection_Type',\n",
    "    'DateofIssue': 'Date_of_Issue',\n",
    "    'StatusofInspectionOrder': 'Status_of_Inspection_Order',\n",
    "    'inspectionnumber': 'Inspection_Number',\n",
    "    'DaystoComply': 'Days_to_Comply',\n",
    "    'ComplianceDate': 'Compliance_Date',\n",
    "    'customerorderedtocomply': 'Customer_Ordered_to_Comply'\n",
    "})\n",
    "\n",
    "print(inspection_order_df.columns)\n"
   ]
  },
  {
   "cell_type": "markdown",
   "metadata": {},
   "source": []
  },
  {
   "cell_type": "markdown",
   "metadata": {},
   "source": [
    "### a) Inspection Dataset and Inspection Order Dataset Matching: "
   ]
  },
  {
   "cell_type": "code",
   "execution_count": 162,
   "metadata": {},
   "outputs": [
    {
     "name": "stdout",
     "output_type": "stream",
     "text": [
      "Total missing inspections: 95570\n",
      "Inspections with associated orders: 47611\n",
      "Orders with associated inspections: 162172\n"
     ]
    }
   ],
   "source": [
    "# Check for missing inspections\n",
    "missing_inspections = inspection_df[~inspection_df['Inspection_Number'].isin(inspection_order_df['Inspection_Number'])]\n",
    "print(f\"Total missing inspections: {len(missing_inspections)}\")\n",
    "\n",
    "# Verify inspections with associated orders\n",
    "has_associated_orders = inspection_df['Inspection_Number'].isin(inspection_order_df['Inspection_Number'])\n",
    "inspection_df['Has Associated Orders'] = has_associated_orders\n",
    "\n",
    "# Verify orders with associated inspections\n",
    "has_associated_inspections = inspection_order_df['Inspection_Number'].isin(inspection_df['Inspection_Number'])\n",
    "inspection_order_df['Has_Associated_Inspections'] = has_associated_inspections\n",
    "\n",
    "# Print summary\n",
    "print(f\"Inspections with associated orders: {has_associated_orders.sum()}\")\n",
    "print(f\"Orders with associated inspections: {has_associated_inspections.sum()}\")"
   ]
  },
  {
   "cell_type": "markdown",
   "metadata": {},
   "source": [
    "### b) Sort Datasets by Time"
   ]
  },
  {
   "cell_type": "code",
   "execution_count": 163,
   "metadata": {},
   "outputs": [
    {
     "ename": "KeyError",
     "evalue": "'Earliest Inspection Date'",
     "output_type": "error",
     "traceback": [
      "\u001b[31m---------------------------------------------------------------------------\u001b[39m",
      "\u001b[31mKeyError\u001b[39m                                  Traceback (most recent call last)",
      "\u001b[32m/var/folders/z4/c58mnhr51y94z53l7xtcb1fh0000gn/T/ipykernel_68292/798116979.py\u001b[39m in \u001b[36m?\u001b[39m\u001b[34m()\u001b[39m\n\u001b[32m----> \u001b[39m\u001b[32m1\u001b[39m sorted_inspections = inspection_df.sort_values(by=[\u001b[33m'Earliest Inspection Date'\u001b[39m])\n\u001b[32m      2\u001b[39m \n\u001b[32m      3\u001b[39m sorted_inspections_order = inspection_order_df.sort_values(by=[\u001b[33m'Date of Issue'\u001b[39m])\n\u001b[32m      4\u001b[39m \n",
      "\u001b[32m/usr/local/lib/python3.11/site-packages/pandas/core/frame.py\u001b[39m in \u001b[36m?\u001b[39m\u001b[34m(self, by, axis, ascending, inplace, kind, na_position, ignore_index, key)\u001b[39m\n\u001b[32m   7185\u001b[39m             )\n\u001b[32m   7186\u001b[39m         \u001b[38;5;28;01melif\u001b[39;00m len(by):\n\u001b[32m   7187\u001b[39m             \u001b[38;5;66;03m# len(by) == 1\u001b[39;00m\n\u001b[32m   7188\u001b[39m \n\u001b[32m-> \u001b[39m\u001b[32m7189\u001b[39m             k = self._get_label_or_level_values(by[\u001b[32m0\u001b[39m], axis=axis)\n\u001b[32m   7190\u001b[39m \n\u001b[32m   7191\u001b[39m             \u001b[38;5;66;03m# need to rewrap column in Series to apply key function\u001b[39;00m\n\u001b[32m   7192\u001b[39m             \u001b[38;5;28;01mif\u001b[39;00m key \u001b[38;5;28;01mis\u001b[39;00m \u001b[38;5;28;01mnot\u001b[39;00m \u001b[38;5;28;01mNone\u001b[39;00m:\n",
      "\u001b[32m/usr/local/lib/python3.11/site-packages/pandas/core/generic.py\u001b[39m in \u001b[36m?\u001b[39m\u001b[34m(self, key, axis)\u001b[39m\n\u001b[32m   1907\u001b[39m             values = self.xs(key, axis=other_axes[\u001b[32m0\u001b[39m])._values\n\u001b[32m   1908\u001b[39m         \u001b[38;5;28;01melif\u001b[39;00m self._is_level_reference(key, axis=axis):\n\u001b[32m   1909\u001b[39m             values = self.axes[axis].get_level_values(key)._values\n\u001b[32m   1910\u001b[39m         \u001b[38;5;28;01melse\u001b[39;00m:\n\u001b[32m-> \u001b[39m\u001b[32m1911\u001b[39m             \u001b[38;5;28;01mraise\u001b[39;00m KeyError(key)\n\u001b[32m   1912\u001b[39m \n\u001b[32m   1913\u001b[39m         \u001b[38;5;66;03m# Check for duplicates\u001b[39;00m\n\u001b[32m   1914\u001b[39m         \u001b[38;5;28;01mif\u001b[39;00m values.ndim > \u001b[32m1\u001b[39m:\n",
      "\u001b[31mKeyError\u001b[39m: 'Earliest Inspection Date'"
     ]
    }
   ],
   "source": [
    "sorted_inspections = inspection_df.sort_values(by=['Earliest_Inspection_Date'])\n",
    "\n",
    "sorted_inspections_order = inspection_order_df.sort_values(by=['Date_of_Issue'])\n",
    "\n",
    "print(sorted_inspections_order.head(20))\n",
    "print(sorted_inspections.tail(20))"
   ]
  },
  {
   "cell_type": "markdown",
   "metadata": {},
   "source": [
    "### c) Inspection Orders Dataset:"
   ]
  },
  {
   "cell_type": "code",
   "execution_count": 156,
   "metadata": {},
   "outputs": [
    {
     "name": "stdout",
     "output_type": "stream",
     "text": [
      "35384     No Directive. Monthly Maintenance other:**All ...\n",
      "89927     No Directive. _**submitt for alteration of dev...\n",
      "43513     No Directive. Monthly Maintenance other:**MAKE...\n",
      "89928     No Directive. _**the fire recall keys shall be...\n",
      "43517     No Directive. Monthly Maintenance other:**CLEA...\n",
      "43514     No Directive. The annual test of the safeties ...\n",
      "89313     No Directive. _**submitt for alteration of dev...\n",
      "43439     No Directive. _**THE OWNER SHALL REPORT TO TSS...\n",
      "125368    No Directive. Make both in car emergency light...\n",
      "126644    No Directive. oil log book other:**CLEAN THE PIT.\n",
      "126645    No Directive. Car enclosure other:**RETURN THE...\n",
      "126643    No Directive. Car enclosure other:**RE-FASTEN/...\n",
      "125546    No Directive. Car enclosure other:**REPLACE TH...\n",
      "125545    No Directive. The car false ceiling shall be r...\n",
      "80142     No Directive. Pit other:**remove non elevator ...\n",
      "80141     No Directive. General- other**the alteration c...\n",
      "80140     No Directive. General- other**post the current...\n",
      "80139     No Directive. The Firefighters Emergency Opera...\n",
      "80138     No Directive. Machine room other:**lubricate t...\n",
      "80137     No Directive. Machine room other:**the 12 mont...\n",
      "Name: Combined Inspection Info, dtype: object\n"
     ]
    }
   ],
   "source": [
    "sorted_inspections_order['Directive'] = sorted_inspections_order['Directive'].astype(str).where(sorted_inspections_order['Directive'].notnull(), 'No Directive.')\n",
    "sorted_inspections_order['Inspections Additional Information'] = sorted_inspections_order['Inspections Additional Information'].astype(str).where(sorted_inspections_order['Inspections Additional Information'].notnull(), 'No Additional Information.')\n",
    "\n",
    "sorted_inspections_order['Combined Inspection Info'] = (sorted_inspections_order['Directive'] + ' ' + sorted_inspections_order['Inspections Additional Information'])\n",
    "print(sorted_inspections_order['Combined Inspection Info'].head(20))"
   ]
  },
  {
   "cell_type": "markdown",
   "metadata": {},
   "source": [
    "### d) Handling Missing \"RISK SCORE\" Values: \n",
    "\n",
    "The values are huge floats, so values have to be normalized to get a better idea and improve the model performance when used. Normalization will help to do meaningful conparisons and avoid bias. In this case the column is using very different scales and also NaN values. They will be converted to "
   ]
  },
  {
   "cell_type": "code",
   "execution_count": 157,
   "metadata": {},
   "outputs": [
    {
     "name": "stdout",
     "output_type": "stream",
     "text": [
      "[7.38313896e-04 1.08286038e-03 1.13208131e-03 4.92209264e-05\n",
      " 1.77195335e-03 8.36755748e-04 1.47662779e-04 7.87534822e-04\n",
      " 1.03363945e-03 1.37818594e-03 8.85976675e-04 1.47662779e-03\n",
      " 1.42740686e-03 1.67351150e-03 1.18130223e-03 0.00000000e+00\n",
      " 4.48191227e-05 8.80779011e-04 2.24095613e-05 3.78143646e-06\n",
      " 8.10066106e-05 2.53100437e-06 3.63804197e-06 1.62422412e-07\n",
      " 5.30290510e-08 9.58488944e-09 1.81625218e-09 1.00902899e-10\n",
      " 1.27482199e-09 3.13733859e-05 3.22782320e-07 5.23887566e-05\n",
      " 1.49397076e-05 1.44217314e-10 1.25733016e-06 1.05541945e-04\n",
      " 9.35807941e-09 1.79618594e-06 7.95435765e-08 6.22824828e-06\n",
      " 3.25842533e-09 3.11338896e-04 1.30435455e-09 2.09743676e-04\n",
      " 3.52518306e-07 6.10402834e-07 4.79006315e-04 7.88391266e-07\n",
      " 6.81362281e-07 1.52421301e-06 5.56595325e-06 5.89621710e-07\n",
      " 3.52934070e-05 1.39313792e-01 1.15136252e-02 1.86055102e-09\n",
      " 2.66466325e-06 1.16245652e-07 8.20626267e-06 1.63820205e-05\n",
      " 2.81830283e-06 4.30108018e-06 4.06352055e-06 7.62849149e-06\n",
      " 5.20766911e-06 4.14440200e-09 7.28642968e-08 6.05029829e-07\n",
      " 4.27357395e-07 8.69783482e-08 1.21005966e-06 1.16161386e-09\n",
      " 6.66305713e-06 7.74971181e-08 1.14434231e-05 3.14332539e-06\n",
      " 1.72293271e-05 1.56022387e-06 3.42030916e-06 4.29925494e-05\n",
      " 5.77682948e-06 7.43235988e-10 1.54413781e-05 3.92346403e-08\n",
      " 1.73558893e-07 3.97717883e-08 1.62162570e-05 2.31758067e-05\n",
      " 3.53898461e-10 5.87964146e-08 3.59237189e-06 4.86510066e-06\n",
      " 4.23520870e-07 4.40483484e-08 1.05979093e-05 1.15991316e-05\n",
      " 1.82297734e-06 8.28929670e-07 1.21268067e-06 1.54694235e-07\n",
      " 1.63633921e-06 2.40791666e-06 1.86526427e-06 4.66316069e-06\n",
      " 6.55029519e-06 1.39320703e-06 2.39319281e-07 2.10197981e-06\n",
      " 5.83881320e-07 2.72731775e-07 1.16894975e-07 5.81485757e-06\n",
      " 4.36686346e-06 5.26637904e-06 4.55744339e-06 1.50321841e-07\n",
      " 8.67794465e-08 2.60425337e-06 2.45616838e-06 2.39701290e-06\n",
      " 2.28020613e-06 2.51466031e-06 5.15289101e-05 3.15998347e-09\n",
      " 4.20838921e-09 7.77690637e-11 8.47041790e-07 1.41736243e-05\n",
      " 3.18174405e-08 2.64700552e-05 5.69705456e-06 1.56866929e-05\n",
      " 2.65145255e-08 2.61444882e-05 6.30593938e-06 1.84901494e-05\n",
      " 1.12261621e-05 4.51355895e-10 1.04577953e-05 2.19912060e-07\n",
      " 5.58851986e-07 7.08781340e-10 3.27092316e-06 6.60380139e-07\n",
      " 3.27198815e-07 1.77343913e-06 9.73708546e-08 6.49021869e-07\n",
      " 8.00855481e-08 5.78138665e-08 8.00049843e-06 1.15203867e-05\n",
      " 9.90784762e-08 1.28703420e-07 1.23583902e-08 7.81857779e-06\n",
      " 5.61462438e-06 1.12553954e-05 2.43811232e-06 7.07762959e-07\n",
      " 1.62540823e-06 3.30091135e-07 5.80806931e-10 2.85470854e-06\n",
      " 1.21084596e-06 5.88446511e-07 2.81737423e-06 4.79111487e-06\n",
      " 1.52382029e-04 7.78507704e-09 7.45135965e-07 3.67372049e-07\n",
      " 4.23459246e-07 1.74821803e-07 2.62202582e-07 5.81939013e-09\n",
      " 2.52503352e-10 7.84334647e-05 2.30686661e-04 1.61391185e-07\n",
      " 1.30722441e-03 2.71571539e-08 2.10665565e-09 2.12896337e-05\n",
      " 4.19854502e-09 2.36227072e-05 4.07357309e-08 1.00000000e+00\n",
      " 2.02144936e-04 2.41333738e-05 1.27512519e-07 1.66164975e-07\n",
      " 8.75251533e-07 1.41736245e-06 6.30380033e-07 1.17745562e-07\n",
      " 3.64565492e-06 5.68166997e-09 9.26643255e-06 6.18996365e-07\n",
      " 4.16871305e-06 9.79496435e-10 6.28665078e-06 1.88735230e-07\n",
      " 1.65173155e-02 3.58109840e-05 8.09921385e-07 2.40699249e-06\n",
      " 4.23834162e-07 6.77983117e-07 4.97131356e-10 2.20667454e-07\n",
      " 6.56548831e-07 6.72686798e-07 1.12398545e-07 4.72858795e-07\n",
      " 5.75345525e-07 9.28804689e-07 3.19827273e-06 1.31398546e-06\n",
      " 1.85070683e-09 1.48629018e-05 5.43143571e-08 2.52503352e-09\n",
      " 2.50419290e-05 6.48650280e-06 3.77899091e-06 2.10939493e-05\n",
      " 2.26544319e-06 9.75244928e-07 1.42341200e-06 9.36405827e-06\n",
      " 2.04395065e-07 6.50163302e-07 3.72568007e-07 2.55646192e-06\n",
      " 3.03899085e-05 1.27095551e-05 1.00410690e-09 1.24036734e-09\n",
      " 1.93435410e-06 9.67177028e-07 1.64483162e-04 8.75398409e-07\n",
      " 2.59466981e-07 1.72273242e-03 1.76467035e-05 6.53612206e-04\n",
      " 1.77170304e-05 1.40059758e-04 3.22806018e-05 2.06321206e-05\n",
      " 3.92944024e-06 5.25740195e-05 5.10049881e-08 2.36472727e-05\n",
      " 7.33391803e-10 1.21864315e-06 6.51570577e-07 1.40229026e-06\n",
      " 1.24703826e-06 8.52153974e-07 1.87055739e-06 1.24171679e-06\n",
      " 2.54475615e-06 9.76361948e-07 1.76598088e-07 5.58379997e-06\n",
      " 1.14985400e-07 8.13467753e-07 1.09148390e-04 1.01579096e-07\n",
      " 4.17885665e-09 8.84358109e-06 8.34117507e-09 4.59409226e-07\n",
      " 1.18622433e-09 5.15252779e-07 5.00768438e-07 2.03026625e-07\n",
      " 7.95348496e-06 2.10099903e-06 2.20008681e-08 4.61692289e-09\n",
      " 8.17321013e-07 1.59226497e-07 5.99986914e-06 2.52550358e-07\n",
      " 2.05744998e-07 1.08512750e-07 7.05114812e-05 1.25117626e-08\n",
      " 1.25354621e-04 4.62070405e-07 9.56975400e-08 5.16298477e-08\n",
      " 6.29584869e-09 2.93356721e-09 5.53569006e-07 2.98430734e-06\n",
      " 1.05880223e-06 2.11760440e-06 3.17967184e-09 3.71617994e-10\n",
      " 6.31602927e-09 7.17117376e-04 1.12017090e-05 1.58578898e-07\n",
      " 1.65599141e-06 5.65231810e-04 1.22006169e-06 3.32503650e-07\n",
      " 1.10063356e-06 1.98949232e-06 7.31089803e-04 4.61093576e-06\n",
      " 1.91395080e-07 8.04445794e-06 5.79006356e-05 6.39872043e-04\n",
      " 3.30340369e-04 2.25431843e-10 1.87102425e-07 3.15743924e-06\n",
      " 1.01197203e-05 4.84511638e-06 3.97649465e-07 1.15627733e-07\n",
      " 2.05333491e-06 1.16424226e-07 1.13208131e-09 5.27677169e-06\n",
      " 3.20518059e-07 2.93140553e-05 1.13505396e-06 1.96883706e-04\n",
      " 4.08041480e-09 3.79021756e-05 2.00447596e-07 1.03622355e-08\n",
      " 3.06766077e-07 4.97658653e-05 9.80418309e-04 3.42111624e-07\n",
      " 1.86283979e-07 7.50188395e-07 2.34853417e-07 1.25582370e-06\n",
      " 6.58498718e-07 5.00125613e-07 3.53855151e-06 2.84629851e-08\n",
      " 2.35694181e-03 3.11412414e-06 2.40619091e-05 3.25785289e-07\n",
      " 3.23873696e-10 3.15144118e-07 8.98084412e-06 6.68616719e-07\n",
      " 1.01846464e-08 1.44806243e-07 2.39054108e-06 5.35454116e-05\n",
      " 3.19941436e-08 2.36558835e-05 9.44459995e-08 8.03393263e-07\n",
      " 1.34819487e-05 6.58985513e-07 4.23080245e-07 4.54537501e-06\n",
      " 1.56664141e-04 3.25885847e-08 1.91586826e-04 1.63621543e-02\n",
      " 6.34488750e-08 1.18113536e-05 5.71063600e-07 1.39351611e-05\n",
      " 5.09601330e-07 4.59914947e-05 5.83579448e-07 1.14152483e-07\n",
      " 1.81633286e-06 1.31281459e-06 1.08778247e-09 1.87039520e-09\n",
      " 3.64478454e-06 3.36635820e-06 1.57143256e-06 4.71044265e-09\n",
      " 6.93593485e-07 1.64828013e-05 1.17342935e-05 3.65508461e-06\n",
      " 4.15842061e-07 2.46478465e-07 6.22710005e-06 1.68377254e-05\n",
      " 3.41977546e-07 1.30205770e-06 3.33497863e-08 2.40560416e-06\n",
      " 1.93716339e-07 3.12652053e-06 3.60217148e-07 3.35871936e-07\n",
      " 9.85489083e-07 1.69916623e-06 2.54191101e-05 3.45414043e-06\n",
      " 4.26409927e-06 3.88784081e-05 4.47375792e-07 8.69201789e-07\n",
      " 6.24283283e-08 1.36049658e-06 2.10717567e-06 1.60527776e-06\n",
      " 3.68862142e-05 1.10248969e-07 4.98505112e-08 1.01949976e-06\n",
      " 3.20213726e-07 1.89500567e-09 1.20666869e-05 1.01887318e-10\n",
      " 6.35618370e-07 1.48850328e-06 9.67322771e-07 1.13958817e-04\n",
      " 4.34891987e-08 2.15568589e-06 3.39158147e-06 2.74723756e-06\n",
      " 2.49097097e-06 1.69042455e-06 1.88548339e-07 1.89143715e-08\n",
      " 3.66034717e-07 2.99128810e-06 8.32449384e-05 1.47778365e-06\n",
      " 7.22286049e-05 8.62247207e-06 3.54698301e-07 5.28482229e-04\n",
      " 2.07930358e-04 6.04118179e-06 2.07747219e-05 1.50213958e-05\n",
      " 1.32896501e-03 2.64120470e-06 9.53423618e-08 1.47088671e-06\n",
      " 5.15962938e-07 4.51170386e-06 9.86854988e-06 2.28385098e-09\n",
      " 5.06975542e-11 8.14715110e-08 1.79939520e-06 5.85962193e-06\n",
      " 1.55493740e-06 2.86409611e-06 6.65007250e-07 1.32400354e-08\n",
      " 3.30820442e-07 4.21719188e-07 8.78535037e-06 4.89046681e-06\n",
      " 1.12217904e-07 1.55538620e-08 7.66222702e-06 1.74581704e-08\n",
      " 7.62780880e-07 5.84252682e-06 9.41827660e-09 7.76223853e-09\n",
      " 6.52253203e-06 6.23964027e-06 8.75961053e-07 5.82489303e-08\n",
      " 1.43481865e-06 3.44457641e-07 6.43307486e-06 1.74460482e-06\n",
      " 5.43375204e-07 3.92151201e-03 1.61936848e-10 6.37983436e-08\n",
      " 1.29148342e-06 5.29307076e-09 1.09749202e-05 1.71459158e-06\n",
      " 5.19274663e-05 7.28566474e-06 7.23547618e-11 1.01639856e-02\n",
      " 7.78773497e-08 3.06259298e-07 1.10004341e-08 1.67302535e-05\n",
      " 4.67247383e-06 8.11433108e-07 1.17680191e-06 1.12139510e-06\n",
      " 4.94581909e-07 1.22932020e-07 9.35197601e-04 5.16819727e-10\n",
      " 1.65423904e-07 3.15560168e-06 1.62160808e-06 2.57425445e-10\n",
      " 1.48118806e-06 6.77890838e-06 3.11530515e-07 2.48231222e-07\n",
      " 2.59866163e-07 4.54860228e-07 9.96388368e-07 1.48156908e-07\n",
      " 3.51894052e-06 1.15343330e-04 3.75921872e-08 3.19484272e-07\n",
      " 7.88242422e-06 5.44352323e-04 2.41403162e-06 1.69966821e-02\n",
      " 1.95048986e-05 4.87686323e-03 6.18905434e-06 5.81309280e-06\n",
      " 3.78016715e-10 1.58923852e-03 1.23089926e-06 4.12002753e-03\n",
      " 1.36153834e-06 3.32603135e-06 2.70353999e-05 1.30327208e-06\n",
      " 1.55479023e-03 7.00298792e-05 3.79847192e-06 8.12112307e-08\n",
      " 2.48548156e-07 1.00903022e-06 8.11474644e-01 2.91290820e-07\n",
      " 1.32611753e-06 4.85210836e-07 2.11760442e-05 3.93138865e-02\n",
      " 1.45098418e-06 8.43758746e-05 4.56048126e-07 1.03836466e-08\n",
      " 1.68032953e-06 3.39504687e-07 3.04332126e-06 3.68512574e-02\n",
      " 2.15953921e-05 4.74073366e-06 4.71624315e-04 5.10050028e-07\n",
      " 6.32693663e-08 2.26154066e-03 3.89222727e-05 1.24215476e-05\n",
      " 7.76864794e-03 5.39485964e-08 8.38710641e-06 8.46792880e-08\n",
      " 7.22670009e-08 5.67300709e-09 3.72135257e-07 9.89811235e-02\n",
      " 3.91906214e-03 1.71953749e-07 2.44021996e-07 5.86319918e-03\n",
      " 5.25239065e-07 9.15444062e-07 3.82494522e-05 5.08555287e-07\n",
      " 4.50863686e-09 1.16882473e-06 1.27502908e-05 1.69543056e-07\n",
      " 2.59350963e-06 7.20631278e-08 8.89844947e-08 3.73437200e-07\n",
      " 5.85814668e-08 3.88845318e-11 1.76588392e-06 2.25650039e-07\n",
      " 3.31001378e-08 1.28400425e-05 2.20338668e-06 2.35276028e-09\n",
      " 1.14228874e-06 6.86801194e-07 1.98880303e-06 4.76187842e-06\n",
      " 6.63021137e-08 7.74447470e-08 1.67425485e-05 6.57353446e-07\n",
      " 1.37044222e-05 3.26806103e-04 8.05980871e-06 3.29741864e-07\n",
      " 2.58807820e-06 5.74849570e-06 3.03508312e-03 1.37388798e-03\n",
      " 2.63291103e-08 1.04789024e-06 7.88903489e-06 1.89175664e-06\n",
      " 5.95476736e-08 8.47895369e-06 3.54462532e-08 4.81246836e-04\n",
      " 1.86067604e-07 4.45638367e-06 5.29401104e-05 6.79248784e-11\n",
      " 2.71616281e-06 3.67633152e-06 1.86848494e-07 8.60407240e-07\n",
      " 5.64534493e-08 1.39252381e-05 1.36285736e-06 4.97149322e-07\n",
      " 2.18478777e-06 1.52584872e-03 7.60342746e-06 1.25329693e-05\n",
      " 2.98697718e-06 1.64028934e-07 2.29605777e-08 3.88373782e-08\n",
      " 5.83659382e-07 9.61306792e-07 7.24867413e-06 1.54821471e-07\n",
      " 1.62429057e-03 5.42563748e-08 6.62686654e-05 1.72007449e-07\n",
      " 1.75192191e-07 3.87432727e-07 8.17580161e-07 7.75194688e-06\n",
      " 8.47023234e-08 1.37427435e-07 3.24792601e-07 3.23267157e-05\n",
      " 1.31707735e-04 5.32923091e-07 5.27668905e-07 1.44709524e-09\n",
      " 8.68260981e-07 5.90406882e-07 9.85243554e-06 9.49705961e-08\n",
      " 1.89071823e-06 2.46104632e-04 5.17233309e-05 5.85988418e-08\n",
      " 4.23813354e-04 1.33593349e-05 1.19095347e-07 1.25237824e-06\n",
      " 2.17300442e-06 7.26890703e-08 4.93874014e-07 5.11735329e-03\n",
      " 2.93457132e-08 2.20746503e-08 4.41807453e-05 7.58523836e-06\n",
      " 2.26000347e-04 7.73944383e-07 2.59757040e-08 2.07573506e-08\n",
      " 6.14766466e-07 3.40116601e-09 2.55384745e-07 2.75131995e-04\n",
      " 5.11897634e-11 1.45301651e-08 3.96984491e-08 1.27192175e-06\n",
      " 1.26118788e-05 2.71487745e-06 2.43088900e-06 1.65893364e-06\n",
      " 1.05332782e-09 9.85303028e-07 4.17308422e-06 5.67196095e-06\n",
      " 1.46286739e-06 4.22931282e-06 5.78786132e-06 7.84334647e-04\n",
      " 8.76132490e-10 1.05944943e-07 5.28271499e-05 1.15315106e-06\n",
      " 6.60182271e-07 8.54714791e-07 1.40999102e-06 1.34299036e-01\n",
      " 2.57721533e-06 1.00555724e-04 4.98961755e-06 7.05506672e-08\n",
      " 2.48175990e-05 3.54340608e-05 2.02935911e-08 1.16380272e-07\n",
      " 1.97097821e-06 1.00498943e-06 1.19438565e-06 6.65902279e-03\n",
      " 4.96997151e-06 2.50173234e-08 3.57886793e-06 1.90484985e-09\n",
      " 1.73840353e-06 1.78655621e-07 3.64062484e-07 1.04665691e-04\n",
      " 1.33600666e-06 6.40230258e-06 1.11870906e-06 5.96109743e-05\n",
      " 4.72454145e-05 2.32784995e-01 1.00111874e-06 1.26497781e-10\n",
      " 1.74801721e-07 9.57844007e-05 3.80284278e-06 8.16871823e-07\n",
      " 2.72529055e-05 2.52152013e-07 1.23052316e-03 1.57999174e-09\n",
      " 3.92167323e-05 2.50639651e-07 4.73760375e-07 7.12536887e-06\n",
      " 7.95846087e-05 1.26497781e-09 1.81713132e-06 1.54369032e-06\n",
      " 2.49247437e-07 1.27482926e-05 2.85538681e-06 2.21526369e-06\n",
      " 1.09265874e-06 4.26857311e-07 1.27788745e-05 2.55222366e-07\n",
      " 3.71106106e-06 7.37952466e-07 3.39613613e-07 1.13327832e-05\n",
      " 8.94555882e-07 1.14010742e-06 2.45179397e-02 8.74618355e-07\n",
      " 5.66944989e-07 1.94600248e-07 5.79312141e-07 5.82560673e-08\n",
      " 3.08747434e-04 2.35180130e-01 1.94878017e-06 3.16806358e-07\n",
      " 2.91566458e-07 1.69589565e-06 2.39705911e-09 2.95325558e-04]\n"
     ]
    }
   ],
   "source": [
    "from sklearn.preprocessing import MinMaxScaler\n",
    "import numpy as np\n",
    "\n",
    "scaler = MinMaxScaler()\n",
    "\n",
    "sorted_inspections_order['Risk Score'] = pd.to_numeric(sorted_inspections_order['Risk Score'], errors='coerce')\n",
    "sorted_inspections_order['Risk Score'] = sorted_inspections_order['Risk Score'].where(sorted_inspections_order['Risk Score'].notnull(), 0)\n",
    "\n",
    "sorted_inspections_order['Risk Score'] = scaler.fit_transform(sorted_inspections_order[['Risk Score']])\n",
    "\n",
    "test = sorted_inspections_order['Risk Score'].unique()\n",
    "print(test)"
   ]
  },
  {
   "cell_type": "markdown",
   "metadata": {},
   "source": [
    "### e) Inspection Outcome Variable (inspection dataset):"
   ]
  },
  {
   "cell_type": "code",
   "execution_count": 158,
   "metadata": {},
   "outputs": [
    {
     "name": "stdout",
     "output_type": "stream",
     "text": [
      "Inspection Outcome\n",
      "Follow up              54605\n",
      "Passed                 26064\n",
      "DC Follow up           22302\n",
      "All Orders Resolved    19555\n",
      "Complete                7506\n",
      "Shutdown                6110\n",
      "Other                   2201\n",
      "Follow up Major         1117\n",
      "Follow up Sub Major     1002\n",
      "Follow Up Initial        877\n",
      "Unable to Inspect        689\n",
      "Fail Initial             602\n",
      "Passed Major             551\n",
      "Name: count, dtype: int64\n"
     ]
    }
   ],
   "source": [
    "counts = sorted_inspections['Inspection Outcome'].value_counts()\n",
    "\n",
    "to_replace = counts[counts < 500].index\n",
    "\n",
    "sorted_inspections['Inspection Outcome'] = sorted_inspections['Inspection Outcome'].replace(to_replace, 'Other')\n",
    "\n",
    "grouped_counts = sorted_inspections['Inspection Outcome'].value_counts()\n",
    "\n",
    "print(grouped_counts)\n"
   ]
  },
  {
   "cell_type": "markdown",
   "metadata": {},
   "source": [
    "### f) Inspection Type Variable (inspection dataset): "
   ]
  },
  {
   "cell_type": "code",
   "execution_count": 159,
   "metadata": {},
   "outputs": [
    {
     "name": "stdout",
     "output_type": "stream",
     "text": [
      "['ED-Followup Inspection' 'ED-Periodic Inspection' 'ED-Minor B Inspection'\n",
      " 'ED-Sub Inspection' 'ED-Initial Inspection' 'ED-Enforcement Action'\n",
      " 'ED-Minor A Inspection' 'ED-Sub  Inspection' 'ED-Unscheduled Inspection'\n",
      " 'ED-Sub Inspection Major' 'ED-Sub Failed Initial'\n",
      " 'ED-Major Alteration Inspection' 'ED-Followup Minor Alt'\n",
      " 'ED-FU Enforcement Action Insp' 'ED-Followup Ownership Change'\n",
      " 'ED-Followup Lic Insp' 'ED-MCP Follow up' 'ED-Re-Activate Inspection'\n",
      " 'ED-Non-Mandated Insp ON' 'ED-MCP Enforcement Insp'\n",
      " 'ED-Followup No-Lic Insp' 'ED-PWGSC Insp'\n",
      " 'ED-Followup Reg Non-Compliance' 'ED-Inspection Temp Lic'\n",
      " 'ED-Reg Non-Compliance' 'ED-PWGSC Foll-Up' 'ED-Non-Mandated Followup ON'\n",
      " 'ED-Perform L1 Incident Insp' 'ED-Perform L1 Near Miss Insp']\n",
      "-------------\n"
     ]
    },
    {
     "name": "stdout",
     "output_type": "stream",
     "text": [
      "['ED-Followup Inspection' 'ED-Periodic Inspection' 'ED-Minor B Inspection'\n",
      " 'ED-Sub Inspection' 'ED-Initial Inspection' 'ED-Enforcement Action'\n",
      " 'ED-Minor A Inspection' 'Elevating Device Sub Inspection'\n",
      " 'ED-Unscheduled Inspection' 'ED-Sub Inspection Major'\n",
      " 'ED-Sub Failed Initial' 'ED-Major Alteration Inspection'\n",
      " 'ED-Followup Minor Alteration Inspection'\n",
      " 'Elevating Device Followup Enforcement Action Inspection'\n",
      " 'Elevating Device Followup Ownership Change Inspection'\n",
      " 'Elevating Device -Followup License Inspection'\n",
      " 'Elevating Device MCP Follow-Up' 'ED-Re-Activate Inspection'\n",
      " 'Elevating Device Non-Mandated Inspection Ontario'\n",
      " 'Elevating Device MCP Enforcement Inspection'\n",
      " 'Elevating Device Followup No-License Inspection'\n",
      " 'Elevating Device PWGSC Inspection'\n",
      " 'Elevating Device Followup Regulatory Non-Compliance'\n",
      " 'Elevating Device Inspection Temporary License'\n",
      " 'Elevating Device Regulatory Non-Compliance'\n",
      " 'Elevating Device PWGSC Follow-Up'\n",
      " 'Elevating Device Non-Mandated Follow-Up Ontario'\n",
      " 'Elevating Device Perform Level 1 Incident Inspection'\n",
      " 'Elevating Device Perform Level 1 Near Miss Inspection']\n"
     ]
    }
   ],
   "source": [
    "unique_values = sorted_inspections['Inspection Type'].unique()\n",
    "print(unique_values)\n",
    "print('-------------')\n",
    "\n",
    "corrections = {\n",
    "    'ED-Sub  Inspection': 'Elevating Device Sub Inspection',\n",
    "    'ED-FU Enforcement Action Insp': 'Elevating Device Followup Enforcement Action Inspection',\n",
    "    'ED-Followup Lic Insp': 'Elevating Device -Followup License Inspection',\n",
    "    'ED-Followup No-Lic Insp': 'Elevating Device Followup No-License Inspection',\n",
    "    'ED-PWGSC Insp': 'Elevating Device PWGSC Inspection',\n",
    "    'ED-PWGSC Foll-Up': 'Elevating Device PWGSC Follow-Up',\n",
    "    'ED-Followup Ownership Change': 'Elevating Device Followup Ownership Change Inspection',\n",
    "    'ED-Followup Minor Alt': 'ED-Followup Minor Alteration Inspection',\n",
    "    'ED-MCP Follow up': 'Elevating Device MCP Follow-Up',\n",
    "    'ED-MCP Enforcement Insp': 'Elevating Device MCP Enforcement Inspection',\n",
    "    'ED-Perform L1 Incident Insp': 'Elevating Device Perform Level 1 Incident Inspection',\n",
    "    'ED-Perform L1 Near Miss Insp': 'Elevating Device Perform Level 1 Near Miss Inspection',\n",
    "    'ED-Inspection Temp Lic': 'Elevating Device Inspection Temporary License',\n",
    "    'ED-Reg Non-Compliance': 'Elevating Device Regulatory Non-Compliance',\n",
    "    'ED-Followup Reg Non-Compliance': 'Elevating Device Followup Regulatory Non-Compliance',\n",
    "    'ED-Non-Mandated Insp ON': 'Elevating Device Non-Mandated Inspection Ontario',\n",
    "    'ED-Non-Mandated Followup ON': 'Elevating Device Non-Mandated Follow-Up Ontario',\n",
    "}\n",
    "\n",
    "sorted_inspections['Inspection Type'] = sorted_inspections['Inspection Type'].replace(corrections)\n",
    "\n",
    "print(sorted_inspections['Inspection Type'].unique())"
   ]
  },
  {
   "cell_type": "markdown",
   "metadata": {},
   "source": [
    "### g) Create Dummy Variables (inspection dataset): "
   ]
  },
  {
   "cell_type": "code",
   "execution_count": 160,
   "metadata": {},
   "outputs": [
    {
     "name": "stdout",
     "output_type": "stream",
     "text": [
      "Dummy_All Orders Resolved\n",
      "0    123626\n",
      "1     19555\n",
      "Name: count, dtype: int64\n"
     ]
    }
   ],
   "source": [
    "dummies = pd.get_dummies(sorted_inspections[['Inspection Outcome', 'Inspection Type']], prefix='Dummy')\n",
    "dummies = dummies.astype(int)  # Ensure the values are integers (0 and 1)\n",
    "#print(dummies.head(20))\n",
    "\n",
    "#Check worked well \n",
    "print(dummies['Dummy_All Orders Resolved'].value_counts())"
   ]
  },
  {
   "cell_type": "markdown",
   "metadata": {},
   "source": [
    "## 2- Aggregation of the Inspection Dataset"
   ]
  },
  {
   "cell_type": "markdown",
   "metadata": {},
   "source": [
    "### a) Group Data by Key Identifiers:"
   ]
  },
  {
   "cell_type": "code",
   "execution_count": null,
   "metadata": {},
   "outputs": [],
   "source": [
    "grouped_inspections = (\n",
    "    sorted_inspections\n",
    "    .groupby('Elevating Devices Number')\n",
    "    .agg(Earliest_Inspection=('Inspection Date', 'min'),\n",
    "         Latest_Inspection=('Inspection Date', 'max'),\n",
    "         Total_Inspections=('Inspection Date', 'count'))\n",
    "    .reset_index()\n",
    ")"
   ]
  },
  {
   "cell_type": "code",
   "execution_count": null,
   "metadata": {},
   "outputs": [],
   "source": []
  }
 ],
 "metadata": {
  "kernelspec": {
   "display_name": "Python 3",
   "language": "python",
   "name": "python3"
  },
  "language_info": {
   "codemirror_mode": {
    "name": "ipython",
    "version": 3
   },
   "file_extension": ".py",
   "mimetype": "text/x-python",
   "name": "python",
   "nbconvert_exporter": "python",
   "pygments_lexer": "ipython3",
   "version": "3.11.7"
  }
 },
 "nbformat": 4,
 "nbformat_minor": 2
}
