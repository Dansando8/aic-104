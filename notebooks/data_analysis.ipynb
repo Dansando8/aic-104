{
 "cells": [
  {
   "cell_type": "code",
   "execution_count": 21,
   "metadata": {},
   "outputs": [
    {
     "name": "stdout",
     "output_type": "stream",
     "text": [
      "Requirement already satisfied: pandas in /usr/local/lib/python3.11/site-packages (2.2.3)\n",
      "Requirement already satisfied: numpy>=1.23.2 in /usr/local/lib/python3.11/site-packages (from pandas) (2.2.4)\n",
      "Requirement already satisfied: python-dateutil>=2.8.2 in /usr/local/lib/python3.11/site-packages (from pandas) (2.9.0.post0)\n",
      "Requirement already satisfied: pytz>=2020.1 in /usr/local/lib/python3.11/site-packages (from pandas) (2025.2)\n",
      "Requirement already satisfied: tzdata>=2022.7 in /usr/local/lib/python3.11/site-packages (from pandas) (2025.2)\n",
      "Requirement already satisfied: six>=1.5 in /usr/local/lib/python3.11/site-packages (from python-dateutil>=2.8.2->pandas) (1.17.0)\n",
      "Index(['Elevating Devices Number', 'TSSA Standard Order Number',\n",
      "       'Regulation Reference', 'Clause Number', 'Clause Text', 'Directive',\n",
      "       'Inspections Additional Information', 'Risk Score', 'Inspection Type',\n",
      "       'Date of Issue', 'Status of Inspection Order', 'Inspection Number',\n",
      "       'Days to Comply', 'Compliance Date', 'Customer Ordered to Comply'],\n",
      "      dtype='object')\n"
     ]
    }
   ],
   "source": [
    "!pip3 install pandas\n",
    "import pandas as pd\n",
    "import os\n",
    "\n",
    "raw_data_dir = os.path.join('..', 'data', 'raw')\n",
    "inspection = os.path.join(raw_data_dir, 'inspection.csv')\n",
    "inspection_order = os.path.join(raw_data_dir, 'order.csv')\n",
    "\n",
    "inspection_df = pd.read_csv(inspection)\n",
    "inspection_df = inspection_df.rename(columns={\n",
    "    'originatingservicerequestnumber': 'Originating Service Request Number',\n",
    "    'InspectionCustomer': 'Inspection Customer',\n",
    "    'ElevatingDevicesNumber': 'Elevating Devices Number',\n",
    "    'InspectionNumber': 'Inspection Number',\n",
    "    'InspectionLocation': 'Inspection Location',\n",
    "    'InspectionType': 'Inspection Type',\n",
    "    'Earliest_INSPECTION_Date': 'Earliest Inspection Date',\n",
    "    'Latest_INSPECTION_Date': 'Latest Inspection Date',\n",
    "    'InspectionOutcome': 'Inspection Outcome'\n",
    "})\n",
    "\n",
    "inspection_order_df = pd.read_csv(inspection_order)\n",
    "inspection_order_df = inspection_order_df.rename(columns={\n",
    "    'ElevatingDevicesNumber': 'Elevating Devices Number',\n",
    "    'TSSAStandardOrderNumber': 'TSSA Standard Order Number',\n",
    "    'RegulationReference': 'Regulation Reference',\n",
    "    'ClauseNumber': 'Clause Number',\n",
    "    'ClauseText': 'Clause Text',\n",
    "    'DIRECTIVE': 'Directive',\n",
    "    'Inspectionsadditionalinformation': 'Inspections Additional Information',\n",
    "    'RISKSCORE': 'Risk Score',\n",
    "    'Inspection_type': 'Inspection Type',\n",
    "    'DateofIssue': 'Date of Issue',\n",
    "    'StatusofInspectionOrder': 'Status of Inspection Order',\n",
    "    'inspectionnumber': 'Inspection Number',\n",
    "    'DaystoComply': 'Days to Comply',\n",
    "    'ComplianceDate': 'Compliance Date',\n",
    "    'customerorderedtocomply': 'Customer Ordered to Comply'\n",
    "})\n",
    "\n",
    "print(inspection_order_df.columns)\n"
   ]
  },
  {
   "cell_type": "markdown",
   "metadata": {},
   "source": []
  },
  {
   "cell_type": "markdown",
   "metadata": {},
   "source": [
    "### a) Inspection Dataset and Inspection Order Dataset Matching: "
   ]
  },
  {
   "cell_type": "code",
   "execution_count": 22,
   "metadata": {},
   "outputs": [
    {
     "name": "stdout",
     "output_type": "stream",
     "text": [
      "Total missing inspections: 95570\n"
     ]
    }
   ],
   "source": [
    "missing_inspections = inspection_df[~inspection_df['Inspection Number'].isin(inspection_order_df['Inspection Number'])]\n",
    "\n",
    "print(f\"Total missing inspections: {len(missing_inspections)}\")\n",
    "\n",
    "cleaned_inspections = inspection_df[inspection_df['Inspection Number'].isin(inspection_order_df['Inspection Number'])]\n",
    "cleaned_inspections = cleaned_inspections.reset_index(drop=True)\n",
    "\n",
    "cleaned_orders = inspection_order_df[inspection_order_df['Inspection Number'].isin(cleaned_inspections['Inspection Number'])]\n",
    "cleaned_orders = cleaned_orders.reset_index(drop=True)"
   ]
  },
  {
   "cell_type": "markdown",
   "metadata": {},
   "source": [
    "### b) Sort Datasets by Time"
   ]
  },
  {
   "cell_type": "code",
   "execution_count": 23,
   "metadata": {},
   "outputs": [],
   "source": [
    "sorted_inspections = cleaned_inspections.sort_values(by=['Earliest Inspection Date'])\n",
    "sorted_inspections = cleaned_inspections.reset_index(drop=True)\n",
    "\n",
    "sorted_inspections_order = cleaned_orders.sort_values(by=['Date of Issue'])\n",
    "sorted_inspections_order = cleaned_orders.reset_index(drop=True)\n",
    "\n",
    "# print(sorted_inspections.tail(20))"
   ]
  },
  {
   "cell_type": "markdown",
   "metadata": {},
   "source": [
    "### c) Inspection Orders Dataset:"
   ]
  },
  {
   "cell_type": "code",
   "execution_count": null,
   "metadata": {},
   "outputs": [],
   "source": []
  }
 ],
 "metadata": {
  "kernelspec": {
   "display_name": "Python 3",
   "language": "python",
   "name": "python3"
  },
  "language_info": {
   "codemirror_mode": {
    "name": "ipython",
    "version": 3
   },
   "file_extension": ".py",
   "mimetype": "text/x-python",
   "name": "python",
   "nbconvert_exporter": "python",
   "pygments_lexer": "ipython3",
   "version": "3.11.7"
  }
 },
 "nbformat": 4,
 "nbformat_minor": 2
}
